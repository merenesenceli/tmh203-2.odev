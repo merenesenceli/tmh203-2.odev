{
 "cells": [
  {
   "cell_type": "markdown",
   "id": "b11b975b",
   "metadata": {},
   "source": [
    "# Nötrofil-Lenfosit Oranı (NLR) \n",
    "* Tıpta NLR belirti göstermemiş inflamasyon belirteci olarak kullanılır. \n",
    "* Genellikle periferik kan örneğinden ancak bazen tümör gibi hücrelerden de alınır.\n",
    "* Nötrofil sayısının lenfosit sayısına bölünmesiyle hesaplanır.\n",
    "* Sağlıklı yetişkinlerin %95'inde bu oran 0,78 ile 3,53 arasındadır.\n",
    "* Sağlıklı yetişkinlerin nötrofil aralığı 1500-7000 mcL aralığındadır. Lenfosit oranları ise 1000-4800 mcL aralığındadır."
   ]
  },
  {
   "cell_type": "code",
   "execution_count": 6,
   "id": "c246ca18",
   "metadata": {},
   "outputs": [
    {
     "name": "stdout",
     "output_type": "stream",
     "text": [
      "Nötrofil değerinizi giriniz:7000\n",
      "Lenfosit değerinizi giriniz:4800\n",
      "NLR: 1.46\n"
     ]
    }
   ],
   "source": [
    "notrofil=input(\"Nötrofil değerinizi giriniz:\")\n",
    "lenfosit=input(\"Lenfosit değerinizi giriniz:\")\n",
    "\n",
    "try:\n",
    "    n=int(notrofil)\n",
    "    l=int(lenfosit)\n",
    "    nlr=n/l\n",
    "    print(\"NLR:\",round(nlr,2))\n",
    "\n",
    "except ValueError:\n",
    "    print(\"Lütfen sadece sayısal değer giriniz.\")\n",
    "except ZeroDivisionError:\n",
    "    print(\"Lenfosit değeri 0 olamaz. Lütfen doğru değerleri girip tekrar deneyin.\")"
   ]
  },
  {
   "cell_type": "code",
   "execution_count": 7,
   "id": "e45bbe60",
   "metadata": {},
   "outputs": [
    {
     "name": "stdout",
     "output_type": "stream",
     "text": [
      "Nötrofil değerinizi giriniz:7000\n",
      "Lenfosit değerinizi giriniz:4800\n",
      "NLR:1.46\n"
     ]
    }
   ],
   "source": [
    "notrofil=input(\"Nötrofil değerinizi giriniz:\")\n",
    "lenfosit=input(\"Lenfosit değerinizi giriniz:\")\n",
    "\n",
    "def nlrHesapla(notrofil,lenfosit):\n",
    "    try:\n",
    "        n=int(notrofil)\n",
    "        l=int(lenfosit)\n",
    "        nlr=n/l\n",
    "        return \"NLR:\"+str(round(nlr,2))\n",
    "    except ValueError:\n",
    "        return\"Lütfen sadece sayısal değer giriniz.\"\n",
    "    except ZeroDivisionError:\n",
    "        return\"Lenfosit değeri 0 olamaz. Lütfen doğru değerleri girip tekrar deneyin.\"\n",
    "    \n",
    "print(nlrHesapla(notrofil,lenfosit))"
   ]
  },
  {
   "cell_type": "code",
   "execution_count": 3,
   "id": "1fa13a40",
   "metadata": {},
   "outputs": [],
   "source": [
    "from tkinter import *\n",
    "from tkinter import messagebox\n",
    "\n",
    "class Pencere(Tk):\n",
    "    def __init__(self):\n",
    "        super().__init__()\n",
    "        self.title(\"NLR Hesaplama Aracı\")\n",
    "        self.geometry(\"400x400+250+250\")\n",
    "        self.araclar()\n",
    "        self.menu()\n",
    "        \n",
    "    def araclar(self):\n",
    "        self.etiket=Label(text=\"NLR Hesapla\")\n",
    "        self.etiket.pack()\n",
    "        \n",
    "        self.notrofil=Entry()\n",
    "        self.notrofil.pack()\n",
    "        self.lenfosit=Entry()\n",
    "        self.lenfosit.pack()\n",
    "        \n",
    "        self.hButon=Button(text=\"Hesapla\",command=self.nlrHesapla).pack()\n",
    "       \n",
    "        self.buton=Button(text=\"Kapat\",command=self.destroy)\n",
    "        self.buton.pack()\n",
    "    \n",
    "\n",
    "    def nlrHesapla(self):\n",
    "        self.n=self.notrofil.get()\n",
    "        self.l=self.lenfosit.get()\n",
    "        try:\n",
    "            self.n=int(self.n)\n",
    "            self.l=int(self.l)\n",
    "            nlr=self.n/self.l\n",
    "            bilgiMetni=\"Değerlerinize göre NLR oranınız.\"+str(round(nlr,2))\n",
    "            messagebox.showinfo(\"Sonuç\",bilgiMetni)\n",
    "        except ValueError:\n",
    "            messagebox.showerror(\"Hata\",\"Lütfen sadece sayısal değer giriniz.\")\n",
    "        except ZeroDivisionError:\n",
    "            messagebox.showerror(\"Hata\",\"Lenfosit değeri 0 olamaz. Lütfen doğru değerleri girip tekrar deneyin.\")\n",
    "    \n",
    "    \n",
    "    def menu(self):\n",
    "        self.menuBar=Menu(self)\n",
    "        self.config(menu=self.menuBar)\n",
    "        \n",
    "        self.help=Menu(self.menuBar)\n",
    "        self.help.add_command(label=\"Nasıl Hesap Yapılıyor ?\", command=self.yardim)\n",
    "        self.help.add_command(label=\"Öğrenci Hakkında\", command=self.ogrenciBilgi)\n",
    "        self.menuBar.add_cascade(label=\"Hakkında\",menu=self.help)\n",
    "        \n",
    "        \n",
    "    def yardim(self):\n",
    "        messagebox.showinfo(\"Yardım\", \"NLR değeri, nötrofil değerinin lenfosit değerine bölünmesiyle ortaya çıkar.\")\n",
    "        \n",
    "        \n",
    "    def ogrenciBilgi(self):\n",
    "        ogrenci_bilgi=\"Öğrenci Bilgileri:\\nAd: Mehmet Eren\\nSoyad:Esenceli\\nÖğrenci No:2210235004\"\n",
    "        messagebox.showinfo(\"Öğrenci Hakkında\", ogrenci_bilgi)\n",
    "        \n",
    "        \n",
    "        \n",
    "pencere=Pencere()\n",
    "pencere.mainloop()"
   ]
  },
  {
   "cell_type": "code",
   "execution_count": null,
   "id": "3d2304ae",
   "metadata": {},
   "outputs": [],
   "source": []
  }
 ],
 "metadata": {
  "kernelspec": {
   "display_name": "Python 3 (ipykernel)",
   "language": "python",
   "name": "python3"
  },
  "language_info": {
   "codemirror_mode": {
    "name": "ipython",
    "version": 3
   },
   "file_extension": ".py",
   "mimetype": "text/x-python",
   "name": "python",
   "nbconvert_exporter": "python",
   "pygments_lexer": "ipython3",
   "version": "3.11.5"
  }
 },
 "nbformat": 4,
 "nbformat_minor": 5
}
